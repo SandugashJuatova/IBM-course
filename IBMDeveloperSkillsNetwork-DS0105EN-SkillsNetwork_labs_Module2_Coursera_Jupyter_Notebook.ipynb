{
  "metadata": {
    "kernelspec": {
      "name": "python",
      "display_name": "Pyolite",
      "language": "python"
    },
    "language_info": {
      "codemirror_mode": {
        "name": "python",
        "version": 3
      },
      "file_extension": ".py",
      "mimetype": "text/x-python",
      "name": "python",
      "nbconvert_exporter": "python",
      "pygments_lexer": "ipython3",
      "version": "3.8"
    }
  },
  "nbformat_minor": 4,
  "nbformat": 4,
  "cells": [
    {
      "cell_type": "markdown",
      "source": "<center>\n    <img src=\"https://cf-courses-data.s3.us.cloud-object-storage.appdomain.cloud/IBMDeveloperSkillsNetwork-DS0105EN-SkillsNetwork/labs/Module2/images/SN_web_lightmode.png\" width=\"300\" alt=\"cognitiveclass.ai logo\"  />\n</center>\n",
      "metadata": {}
    },
    {
      "cell_type": "markdown",
      "source": "#### Add your code below following the instructions given in the course\n",
      "metadata": {}
    },
    {
      "cell_type": "markdown",
      "source": "# My Jupyter Notebook on IBM Watson Studio",
      "metadata": {}
    },
    {
      "cell_type": "markdown",
      "source": "***Sandugash Juatova*** <br>\nCurrent occupation: Research analyst",
      "metadata": {}
    },
    {
      "cell_type": "markdown",
      "source": "*I am interested in data science in healthcare because I want to find efficient ways of providing healthcare services. I believe that data science applied in healthcare will increase the quality of tretments and health services.*",
      "metadata": {}
    },
    {
      "cell_type": "markdown",
      "source": "### The following line shows an example of multiplying two odd numbers",
      "metadata": {}
    },
    {
      "cell_type": "code",
      "source": "3*7",
      "metadata": {
        "trusted": true
      },
      "execution_count": 2,
      "outputs": [
        {
          "execution_count": 2,
          "output_type": "execute_result",
          "data": {
            "text/plain": "21"
          },
          "metadata": {}
        }
      ]
    },
    {
      "cell_type": "markdown",
      "source": "***\nThe multiplication rule:",
      "metadata": {}
    },
    {
      "cell_type": "markdown",
      "source": "- Even x Even = Even <br>\n- Even x Odd = Even <br>\n- Odd x Odd =Odd",
      "metadata": {}
    },
    {
      "cell_type": "markdown",
      "source": "Let's look at the example:",
      "metadata": {}
    },
    {
      "cell_type": "markdown",
      "source": "| Multiplication rule        | Example       | \n| -------------------------- |-------------  | \n| Even x Even = Even         | 2 x 4 = 8     | \n| Even x Odd = Even          | 2 x 3 = 6     |   \n| Odd x Odd = Odd            | 3 x 7 = 21    |    ",
      "metadata": {}
    }
  ]
}